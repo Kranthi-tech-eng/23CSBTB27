{
  "nbformat": 4,
  "nbformat_minor": 0,
  "metadata": {
    "colab": {
      "provenance": [],
      "authorship_tag": "ABX9TyO3EBU/00z0frRQiJ9n75i2",
      "include_colab_link": true
    },
    "kernelspec": {
      "name": "python3",
      "display_name": "Python 3"
    },
    "language_info": {
      "name": "python"
    }
  },
  "cells": [
    {
      "cell_type": "markdown",
      "metadata": {
        "id": "view-in-github",
        "colab_type": "text"
      },
      "source": [
        "<a href=\"https://colab.research.google.com/github/Kranthi-tech-eng/23CSBTB27/blob/main/Lab7.ipynb\" target=\"_parent\"><img src=\"https://colab.research.google.com/assets/colab-badge.svg\" alt=\"Open In Colab\"/></a>"
      ]
    },
    {
      "cell_type": "code",
      "execution_count": 1,
      "metadata": {
        "id": "b5lPHJGVNbpL"
      },
      "outputs": [],
      "source": [
        "import numpy as np\n",
        "import pandas as pd\n",
        "#from sklearn.datasets import load_boston\n",
        "from sklearn.datasets import fetch_california_housing # Use fetch_california_housing instead of load_boston\n",
        "from sklearn.model_selection import train_test_split\n",
        "from sklearn.linear_model import LinearRegression\n",
        "from sklearn.metrics import mean_squared_error, r2_score\n",
        "\n",
        "housing = fetch_california_housing() # Load the California housing dataset"
      ]
    },
    {
      "cell_type": "code",
      "source": [
        "from sklearn.datasets import fetch_openml\n",
        "\n",
        "housing = fetch_openml(name=\"house_prices\", as_frame=True)"
      ],
      "metadata": {
        "id": "FDk-JbRpNhK4"
      },
      "execution_count": 2,
      "outputs": []
    },
    {
      "cell_type": "code",
      "source": [
        "# Convert the dataset to a DataFrame for easier manipulation\n",
        "data = pd.DataFrame(housing.data, columns=housing.feature_names) # Use 'housing' instead of 'boston'\n",
        "data['target'] = housing.target  # Add target variable to the DataFrame"
      ],
      "metadata": {
        "id": "dz4O-CtiNj5u"
      },
      "execution_count": 3,
      "outputs": []
    },
    {
      "cell_type": "code",
      "source": [
        "# Define the features (X) and the target (y)\n",
        "X = data.drop(columns=['target'])  # Features - drop the 'target column'\n",
        "y = data['target']"
      ],
      "metadata": {
        "id": "Vzb1kXdvNm6m"
      },
      "execution_count": 4,
      "outputs": []
    },
    {
      "cell_type": "code",
      "source": [
        "\n",
        "# Split the data into training and test sets\n",
        "X_train, X_test, y_train, y_test = train_test_split(X, y, test_size=0.2, random_state=42)"
      ],
      "metadata": {
        "id": "EwnauWvfNqTT"
      },
      "execution_count": 5,
      "outputs": []
    },
    {
      "cell_type": "code",
      "source": [
        "# Create a LinearRegression model\n",
        "model = LinearRegression()"
      ],
      "metadata": {
        "id": "O7o5qOn7NsKG"
      },
      "execution_count": 6,
      "outputs": []
    },
    {
      "cell_type": "code",
      "source": [
        "\n",
        "model = LinearRegression()\n",
        "\n",
        "# Train the model using the training data\n",
        "model.fit(X_train, y_train)\n",
        "\n",
        "# Make predictions on the test set\n",
        "y_pred = model.predict(X_test)  # Assign predicted values to y_pred\n",
        "\n",
        "# Calculate Mean Squared Error (MSE) and R-squared (R2)\n",
        "mse = mean_squared_error(y_test, y_pred)\n",
        "r2 = r2_score(y_test, y_pred)\n",
        "\n",
        "print(\"Mean Squared Error:\", mse)\n",
        "print(\"R-squared:\", r2)"
      ],
      "metadata": {
        "colab": {
          "base_uri": "https://localhost:8080/"
        },
        "id": "Pp1rrscSNww3",
        "outputId": "c232eccb-9b99-4229-c595-f5981bdff24a"
      },
      "execution_count": 11,
      "outputs": [
        {
          "output_type": "stream",
          "name": "stdout",
          "text": [
            "Mean Squared Error: 3180.1596481558445\n",
            "R-squared: 0.35940880381777085\n"
          ]
        }
      ]
    },
    {
      "cell_type": "code",
      "source": [
        "from sklearn.datasets import load_diabetes\n",
        "from sklearn.linear_model import LogisticRegression\n",
        "\n",
        "from sklearn.model_selection import train_test_split\n",
        "\n",
        "from sklearn import metrics\n",
        "\n",
        "import pandas as pd\n",
        "\n",
        "import numpy as np\n",
        "\n",
        "import matplotlib.pyplot as plt\n",
        "\n",
        "import seaborn as sns\n",
        "\n",
        "# Now you can load the dataset using:\n",
        "diabetes_data = load_diabetes()\n",
        "\n",
        " #Convert the 'Bunch' object to a Pandas DataFrame\n",
        "diabetes_df = pd.DataFrame(diabetes_data.data, columns=diabetes_data.feature_names)\n",
        "diabetes_df['target'] = diabetes_data.target\n",
        "\n",
        "# Now you can use .head()\n",
        "diabetes_df.head()\n",
        "\n",
        "#split dataset in features and target variable\n",
        "\n",
        "diabetes_cols = ['age', 'sex', 'bmi', 'bp', 's1', 's2', 's3', 's4', 's5', 's6']\n",
        "\n",
        "X = diabetes_df[diabetes_cols]# Features\n",
        "\n",
        "y = diabetes_df['target'] # Target variable\n",
        "\n",
        "X_train,X_test,y_train,y_test=train_test_split(X,y,test_size=0.25,random_state=0)\n",
        "\n",
        "# instantiate the model\n",
        "\n",
        "logreg =  LogisticRegression(solver='liblinear')\n",
        "\n",
        "\n",
        "\n",
        "# fit the model with data\n",
        "\n",
        "logreg.fit(X_train,y_train)\n",
        "\n",
        "\n",
        "\n",
        "# predicting\n",
        "\n",
        "y_pred=logreg.predict(X_test)\n",
        "\n",
        "y_pred\n",
        "\n",
        "cnf_matrix = metrics.confusion_matrix(y_test, y_pred)\n",
        "\n",
        "cnf_matrix\n",
        "\n",
        "print(\"Accuracy:\",metrics.accuracy_score(y_test, y_pred))\n",
        "\n",
        "print(\"Precision:\",metrics.precision_score(y_test, y_pred, average='weighted')) # Change is here\n",
        "\n",
        "print(\"Recall:\",metrics.recall_score(y_test, y_pred, average='weighted'))"
      ],
      "metadata": {
        "colab": {
          "base_uri": "https://localhost:8080/"
        },
        "id": "dH2ZY4T8N2p_",
        "outputId": "58ebdeac-818e-44ca-a36e-0e4f31d5ad7a"
      },
      "execution_count": 10,
      "outputs": [
        {
          "output_type": "stream",
          "name": "stdout",
          "text": [
            "Accuracy: 0.009009009009009009\n",
            "Precision: 0.00022522522522522523\n",
            "Recall: 0.009009009009009009\n"
          ]
        },
        {
          "output_type": "stream",
          "name": "stderr",
          "text": [
            "/usr/local/lib/python3.10/dist-packages/sklearn/metrics/_classification.py:1531: UndefinedMetricWarning: Precision is ill-defined and being set to 0.0 in labels with no predicted samples. Use `zero_division` parameter to control this behavior.\n",
            "  _warn_prf(average, modifier, f\"{metric.capitalize()} is\", len(result))\n",
            "/usr/local/lib/python3.10/dist-packages/sklearn/metrics/_classification.py:1531: UndefinedMetricWarning: Recall is ill-defined and being set to 0.0 in labels with no true samples. Use `zero_division` parameter to control this behavior.\n",
            "  _warn_prf(average, modifier, f\"{metric.capitalize()} is\", len(result))\n"
          ]
        }
      ]
    }
  ]
}