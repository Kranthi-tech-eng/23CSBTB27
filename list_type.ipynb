{
  "nbformat": 4,
  "nbformat_minor": 0,
  "metadata": {
    "colab": {
      "provenance": [],
      "authorship_tag": "ABX9TyOUWUQRLqXwWYn/lRvSSgOY",
      "include_colab_link": true
    },
    "kernelspec": {
      "name": "python3",
      "display_name": "Python 3"
    },
    "language_info": {
      "name": "python"
    }
  },
  "cells": [
    {
      "cell_type": "markdown",
      "metadata": {
        "id": "view-in-github",
        "colab_type": "text"
      },
      "source": [
        "<a href=\"https://colab.research.google.com/github/Kranthi-tech-eng/23CSBTB27/blob/main/list_type.ipynb\" target=\"_parent\"><img src=\"https://colab.research.google.com/assets/colab-badge.svg\" alt=\"Open In Colab\"/></a>"
      ]
    },
    {
      "cell_type": "code",
      "source": [],
      "metadata": {
        "id": "wNxWCofRloCr"
      },
      "execution_count": null,
      "outputs": []
    },
    {
      "cell_type": "code",
      "source": [
        "list={\"geeks\",\"for\",\"geeks\"}\n",
        "list2=\"my first lab\"\n",
        "list3=4.5\n",
        "list4=4+6\n",
        "print(list)\n",
        "print(list2)\n",
        "print(type(list3))\n",
        "print(type(list4))\n",
        "print(list3)\n",
        "print(list4)\n",
        "print(list2[0])\n",
        "\n",
        "\n"
      ],
      "metadata": {
        "colab": {
          "base_uri": "https://localhost:8080/"
        },
        "id": "2pePfMWplu-G",
        "outputId": "b4c2dc87-2a9e-41bf-8845-99d8d5ba7d2b"
      },
      "execution_count": null,
      "outputs": [
        {
          "output_type": "stream",
          "name": "stdout",
          "text": [
            "{'for', 'geeks'}\n",
            "my first lab\n",
            "<class 'float'>\n",
            "<class 'int'>\n",
            "4.5\n",
            "10\n",
            "m\n"
          ]
        }
      ]
    },
    {
      "cell_type": "markdown",
      "source": [],
      "metadata": {
        "id": "983jUnE4vJSF"
      }
    },
    {
      "cell_type": "code",
      "source": [
        "list={1,2,'geeks',0,'for','geeks'}\n",
        "print(\"\\nList with the useof mixed values\")\n",
        "print(list)"
      ],
      "metadata": {
        "id": "D2J0zwtLoCon"
      },
      "execution_count": null,
      "outputs": []
    },
    {
      "cell_type": "code",
      "execution_count": null,
      "metadata": {
        "colab": {
          "base_uri": "https://localhost:8080/"
        },
        "id": "0QdhbXyFjl_m",
        "outputId": "5f8f9921-a850-43a8-ab1d-4ffbbe51ec0a"
      },
      "outputs": [
        {
          "output_type": "stream",
          "name": "stdout",
          "text": [
            "(1, 5, 2, 6, 7)\n",
            "[3, 6, 1, 8]\n",
            "<class 'list'>\n",
            "<class 'tuple'>\n"
          ]
        }
      ],
      "source": [
        "import numpy as np\n",
        "list=(1,5,2,6,7)\n",
        "list1=[3,6,1,8]\n",
        "print(list)\n",
        "print(list1)\n",
        "print(type(list1))\n",
        "print(type(list))\n",
        "\n"
      ]
    }
  ]
}